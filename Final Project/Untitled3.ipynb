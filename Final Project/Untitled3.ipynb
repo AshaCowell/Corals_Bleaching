{
  "nbformat": 4,
  "nbformat_minor": 0,
  "metadata": {
    "colab": {
      "provenance": []
    },
    "kernelspec": {
      "name": "python3",
      "display_name": "Python 3"
    },
    "language_info": {
      "name": "python"
    }
  },
  "cells": [
    {
      "cell_type": "code",
      "execution_count": null,
      "metadata": {
        "colab": {
          "base_uri": "https://localhost:8080/"
        },
        "id": "x1aTR9CJQq45",
        "outputId": "a5c22861-9427-448e-ea24-f463102679f8"
      },
      "outputs": [
        {
          "output_type": "stream",
          "name": "stdout",
          "text": [
            "First few rows of the DataFrame:\n",
            "     ID REGION SUBREGION COUNTRY               LOCATION    LAT    LON  MONTH  \\\n",
            "0  7067    NaN       NaN  France     Hermitage, Reunion -21.22  55.22    4.0   \n",
            "1  7068    NaN       NaN  France  Saint Gilles, Reunion -21.05  55.23    7.0   \n",
            "2  7069    NaN       NaN  France     Saint-Leu, Reunion -21.16  55.28    2.0   \n",
            "3  4024    NaN       NaN  France              SE France  43.00   5.00    8.0   \n",
            "4  7049    NaN       NaN   Macau   Koh Tao, Surat Thani  10.12  99.81    7.0   \n",
            "\n",
            "   YEAR DEPTH  ...  RECOVERY_CODE RECOVERY          SURVEY_TYPE SURVEY_AREA  \\\n",
            "0  2008     6  ...            NaN      NaN  Reef Check Protocol         NaN   \n",
            "1  2008   6.5  ...            NaN      NaN  Reef Check Protocol         NaN   \n",
            "2  2008     6  ...            NaN      NaN  Reef Check Protocol         NaN   \n",
            "3  1999   NaN  ...            NaN      NaN               Diving      100 km   \n",
            "4  2009     4  ...            NaN      NaN  Reef Check Protocol         NaN   \n",
            "\n",
            "                        WATER_TEMPERATURE OTHER_FACTORS  \\\n",
            "0                                     NaN           NaN   \n",
            "1                                     NaN           NaN   \n",
            "2                                     NaN           NaN   \n",
            "3                              22-23.9 °C           NaN   \n",
            "4  Air temp 28 Deg C, Water temp 29 Deg C           NaN   \n",
            "\n",
            "                                             REMARKS  \\\n",
            "0  0% of recorded Recently killed coral on substr...   \n",
            "1  0% of recorded Recently killed coral on substr...   \n",
            "2  0% of recorded Recently killed coral on substr...   \n",
            "3  Bleaching of Cladocora caespitosa and Oculina ...   \n",
            "4  0% of recorded recently killed coral on substr...   \n",
            "\n",
            "                                              SOURCE  REFERENCE_CODE  \\\n",
            "0  Reef Check, Submitted by Harold Cambert. Site ...             NaN   \n",
            "1  Reef Check, Submitted by Harold Cambert. Site ...             NaN   \n",
            "2  Reef Check, Submitted by Harold Cambert . Site...             NaN   \n",
            "3  Martin Pêcheux (martin-pecheux@wanadoo.fr) per...             NaN   \n",
            "4  Reef check submitted by Suchana Apple Chavanic...             NaN   \n",
            "\n",
            "  COUNTRY_CODE  \n",
            "0          FRA  \n",
            "1          FRA  \n",
            "2          FRA  \n",
            "3          FRA  \n",
            "4          MAC  \n",
            "\n",
            "[5 rows x 28 columns]\n",
            "\n",
            "Information about the DataFrame:\n",
            "<class 'pandas.core.frame.DataFrame'>\n",
            "RangeIndex: 6190 entries, 0 to 6189\n",
            "Data columns (total 28 columns):\n",
            " #   Column               Non-Null Count  Dtype  \n",
            "---  ------               --------------  -----  \n",
            " 0   ID                   6190 non-null   int64  \n",
            " 1   REGION               6163 non-null   object \n",
            " 2   SUBREGION            6163 non-null   object \n",
            " 3   COUNTRY              6190 non-null   object \n",
            " 4   LOCATION             6067 non-null   object \n",
            " 5   LAT                  6190 non-null   float64\n",
            " 6   LON                  6190 non-null   float64\n",
            " 7   MONTH                4881 non-null   float64\n",
            " 8   YEAR                 6190 non-null   int64  \n",
            " 9   DEPTH                3041 non-null   object \n",
            " 10  SEVERITY_CODE        6190 non-null   int64  \n",
            " 11  BLEACHING_SEVERITY   6190 non-null   object \n",
            " 12  CORAL_FAMILY         298 non-null    object \n",
            " 13  CORAL_SPECIES        820 non-null    object \n",
            " 14  PERCENTAGE_AFFECTED  1613 non-null   object \n",
            " 15  BLEACHING_DURATION   263 non-null    object \n",
            " 16  MORTALITY_CODE       509 non-null    float64\n",
            " 17  MORTALITY            476 non-null    object \n",
            " 18  RECOVERY_CODE        91 non-null     float64\n",
            " 19  RECOVERY             121 non-null    object \n",
            " 20  SURVEY_TYPE          2251 non-null   object \n",
            " 21  SURVEY_AREA          977 non-null    object \n",
            " 22  WATER_TEMPERATURE    1066 non-null   object \n",
            " 23  OTHER_FACTORS        88 non-null     object \n",
            " 24  REMARKS              3087 non-null   object \n",
            " 25  SOURCE               6190 non-null   object \n",
            " 26  REFERENCE_CODE       1469 non-null   float64\n",
            " 27  COUNTRY_CODE         6190 non-null   object \n",
            "dtypes: float64(6), int64(3), object(19)\n",
            "memory usage: 1.3+ MB\n",
            "None\n",
            "\n",
            "Summary statistics for numerical columns:\n",
            "                 ID           LAT          LON        MONTH         YEAR  \\\n",
            "count   6190.000000   6190.000000  6190.000000  4881.000000  6190.000000   \n",
            "mean    8330.747173     -2.801213    52.529889     5.387011  2001.098061   \n",
            "std    15069.100476    131.750197   113.111267     2.617718     5.174347   \n",
            "min        1.000000 -10269.000000  -179.966700     1.000000  1963.000000   \n",
            "25%     1548.250000    -18.259270   -80.513975     3.000000  1998.000000   \n",
            "50%     3123.500000     -8.025167   118.919250     4.000000  2002.000000   \n",
            "75%     6117.750000     18.680560   149.048225     8.000000  2005.000000   \n",
            "max    54846.000000     46.667000   180.000000    12.000000  2012.000000   \n",
            "\n",
            "       SEVERITY_CODE  MORTALITY_CODE  RECOVERY_CODE  REFERENCE_CODE  \n",
            "count    6190.000000      509.000000      91.000000     1469.000000  \n",
            "mean        0.899192        1.540275       2.054945     2729.477195  \n",
            "std         1.381800        1.264619       1.148551     5438.027160  \n",
            "min        -1.000000       -1.000000       0.000000        0.000000  \n",
            "25%         0.000000        0.000000       1.000000        0.000000  \n",
            "50%         1.000000        2.000000       3.000000        0.000000  \n",
            "75%         2.000000        3.000000       3.000000      464.000000  \n",
            "max         3.000000       11.000000       3.000000    27147.000000  \n"
          ]
        }
      ],
      "source": [
        "import pandas as pd\n",
        "\n",
        "# Load the Excel file into a Pandas DataFrame\n",
        "excel_file = \"CoralBleaching-2.xlsx\"\n",
        "df = pd.read_excel(excel_file)\n",
        "\n",
        "# Display the first few rows of the DataFrame to understand its structure\n",
        "print(\"First few rows of the DataFrame:\")\n",
        "print(df.head())\n",
        "\n",
        "# Get information about the DataFrame\n",
        "print(\"\\nInformation about the DataFrame:\")\n",
        "print(df.info())\n",
        "\n",
        "# Get summary statistics for numerical columns\n",
        "print(\"\\nSummary statistics for numerical columns:\")\n",
        "print(df.describe())\n"
      ]
    },
    {
      "cell_type": "code",
      "source": [
        "import pandas as pd\n",
        "\n",
        "# Load the Excel file into a Pandas DataFrame\n",
        "excel_file = \"CoralBleaching-2.xlsx\"\n",
        "df = pd.read_excel(excel_file)\n",
        "\n",
        "# Drop rows with missing location information\n",
        "df.dropna(subset=['COUNTRY'], inplace=True)\n",
        "\n",
        "# Group by country and calculate total events and average severity\n",
        "hotspots = df.groupby('COUNTRY').agg({\n",
        "    'ID': 'count',  # Total number of events\n",
        "    'SEVERITY_CODE': 'mean'  # Average severity\n",
        "}).rename(columns={'ID': 'Total Events', 'SEVERITY_CODE': 'Avg Severity'}).reset_index()\n",
        "\n",
        "# Sort hotspots by total events in descending order\n",
        "hotspots = hotspots.sort_values(by='Total Events', ascending=False)\n",
        "\n",
        "# Display top 10 hotspots\n",
        "print(\"Top 10 Coral Bleaching Hotspots:\")\n",
        "print(hotspots.head(10))\n"
      ],
      "metadata": {
        "colab": {
          "base_uri": "https://localhost:8080/"
        },
        "id": "kR__oGudRHr3",
        "outputId": "bd84d880-c3d1-47c9-fdc1-d4d2c6afc201"
      },
      "execution_count": null,
      "outputs": [
        {
          "output_type": "stream",
          "name": "stdout",
          "text": [
            "Top 10 Coral Bleaching Hotspots:\n",
            "                               COUNTRY  Total Events  Avg Severity\n",
            "97  Torres Strait & Great Barrier Reef          2022      1.076657\n",
            "56                              Mexico           873      1.442153\n",
            "28                                Fiji           410     -0.434146\n",
            "21                                Cuba           196     -0.086735\n",
            "49                            Malaysia           169      0.402367\n",
            "29                       Florida (USA)           149      0.859060\n",
            "2                            Australia           135      0.629630\n",
            "9                               Belize           115      1.078261\n",
            "31                    French Polynesia           112      1.276786\n",
            "5                              Bahamas           111      1.036036\n"
          ]
        }
      ]
    },
    {
      "cell_type": "code",
      "source": [
        "import matplotlib.pyplot as plt\n",
        "\n",
        "# Group by year and calculate total events and average severity\n",
        "temporal_analysis = df.groupby('YEAR').agg({\n",
        "    'ID': 'count',  # Total number of events\n",
        "    'SEVERITY_CODE': 'mean'  # Average severity\n",
        "}).rename(columns={'ID': 'Total Events', 'SEVERITY_CODE': 'Avg Severity'}).reset_index()\n",
        "\n",
        "# Plot temporal analysis\n",
        "plt.figure(figsize=(10, 6))\n",
        "plt.plot(temporal_analysis['YEAR'], temporal_analysis['Total Events'], marker='o', color='b', label='Total Events')\n",
        "plt.plot(temporal_analysis['YEAR'], temporal_analysis['Avg Severity'], marker='s', color='r', label='Avg Severity')\n",
        "plt.xlabel('Year')\n",
        "plt.ylabel('Count / Severity')\n",
        "plt.title('Temporal Analysis of Coral Bleaching Events')\n",
        "plt.legend()\n",
        "plt.grid(True)\n",
        "plt.tight_layout()\n",
        "plt.show()\n"
      ],
      "metadata": {
        "colab": {
          "base_uri": "https://localhost:8080/",
          "height": 590
        },
        "id": "JmQGqAuSRSss",
        "outputId": "16c92835-81f0-4630-bd6b-64737d15f817"
      },
      "execution_count": null,
      "outputs": [
        {
          "output_type": "display_data",
          "data": {
            "text/plain": [
              "<Figure size 1000x600 with 1 Axes>"
            ],
            "image/png": "[encoded data removed]"
          },
          "metadata": {}
        }
      ]
    },
    {
      "cell_type": "code",
      "source": [
        "# Extract numeric values from water temperature range\n",
        "df['WATER_TEMP_MIN'] = df['WATER_TEMPERATURE'].str.extract(r'(\\d+.\\d+)')\n",
        "df['WATER_TEMP_MAX'] = df['WATER_TEMPERATURE'].str.extract(r'(\\d+.\\d+)', expand=False)\n",
        "\n",
        "# Convert extracted values to numeric\n",
        "df['WATER_TEMP_MIN'] = pd.to_numeric(df['WATER_TEMP_MIN'], errors='coerce')\n",
        "df['WATER_TEMP_MAX'] = pd.to_numeric(df['WATER_TEMP_MAX'], errors='coerce')\n",
        "\n",
        "# Calculate average temperature\n",
        "df['WATER_TEMP_AVG'] = (df['WATER_TEMP_MIN'] + df['WATER_TEMP_MAX']) / 2\n",
        "\n",
        "# Plot relationship between water temperature and average severity\n",
        "plt.figure(figsize=(10, 6))\n",
        "plt.scatter(df['WATER_TEMP_AVG'], df['SEVERITY_CODE'], color='b', alpha=0.5)\n",
        "plt.xlabel('Water Temperature (°C)')\n",
        "plt.ylabel('Average Severity')\n",
        "plt.title('Relationship between Water Temperature and Coral Bleaching Severity')\n",
        "plt.grid(True)\n",
        "plt.tight_layout()\n",
        "plt.show()\n",
        "\n"
      ],
      "metadata": {
        "colab": {
          "base_uri": "https://localhost:8080/",
          "height": 590
        },
        "id": "_hKk5xm-RWiq",
        "outputId": "7dda9b09-94c8-4061-894c-5c9d971b496f"
      },
      "execution_count": null,
      "outputs": [
        {
          "output_type": "display_data",
          "data": {
            "text/plain": [
              "<Figure size 1000x600 with 1 Axes>"
            ],
            "image/png": "[encoded data removed]"
          },
          "metadata": {}
        }
      ]
    },
    {
      "cell_type": "code",
      "source": [
        "from sklearn.impute import SimpleImputer\n",
        "\n",
        "# Impute missing values in the feature matrix (X)\n",
        "imputer = SimpleImputer(strategy='mean')\n",
        "X_train_imputed = imputer.fit_transform(X_train)\n",
        "X_test_imputed = imputer.transform(X_test)\n",
        "\n",
        "# Train a linear regression model on the imputed data\n",
        "model = LinearRegression()\n",
        "model.fit(X_train_imputed, y_train)\n",
        "\n",
        "# Make predictions on the testing set\n",
        "y_pred = model.predict(X_test_imputed)\n",
        "\n",
        "# Evaluate the model\n",
        "mse = mean_squared_error(y_test, y_pred)\n",
        "print(\"Mean Squared Error:\", mse)\n",
        "\n",
        "# Predict severity for a new water temperature value\n",
        "new_temperature = [[30]]  # Example: predict severity for a water temperature of 30°C\n",
        "new_temperature_imputed = imputer.transform(new_temperature)\n",
        "predicted_severity = model.predict(new_temperature_imputed)\n",
        "print(\"Predicted Severity:\", predicted_severity)\n"
      ],
      "metadata": {
        "colab": {
          "base_uri": "https://localhost:8080/",
          "height": 207
        },
        "id": "o6wb9KWgRdGr",
        "outputId": "06cc3f7a-feff-4d93-ec6b-7781bfa55f5c"
      },
      "execution_count": null,
      "outputs": [
        {
          "output_type": "error",
          "ename": "NameError",
          "evalue": "name 'X_train' is not defined",
          "traceback": [
            "\u001b[0;31m---------------------------------------------------------------------------\u001b[0m",
            "\u001b[0;31mNameError\u001b[0m                                 Traceback (most recent call last)",
            "\u001b[0;32m<ipython-input-6-5f3e86e5f07d>\u001b[0m in \u001b[0;36m<cell line: 5>\u001b[0;34m()\u001b[0m\n\u001b[1;32m      3\u001b[0m \u001b[0;31m# Impute missing values in the feature matrix (X)\u001b[0m\u001b[0;34m\u001b[0m\u001b[0;34m\u001b[0m\u001b[0m\n\u001b[1;32m      4\u001b[0m \u001b[0mimputer\u001b[0m \u001b[0;34m=\u001b[0m \u001b[0mSimpleImputer\u001b[0m\u001b[0;34m(\u001b[0m\u001b[0mstrategy\u001b[0m\u001b[0;34m=\u001b[0m\u001b[0;34m'mean'\u001b[0m\u001b[0;34m)\u001b[0m\u001b[0;34m\u001b[0m\u001b[0;34m\u001b[0m\u001b[0m\n\u001b[0;32m----> 5\u001b[0;31m \u001b[0mX_train_imputed\u001b[0m \u001b[0;34m=\u001b[0m \u001b[0mimputer\u001b[0m\u001b[0;34m.\u001b[0m\u001b[0mfit_transform\u001b[0m\u001b[0;34m(\u001b[0m\u001b[0mX_train\u001b[0m\u001b[0;34m)\u001b[0m\u001b[0;34m\u001b[0m\u001b[0;34m\u001b[0m\u001b[0m\n\u001b[0m\u001b[1;32m      6\u001b[0m \u001b[0mX_test_imputed\u001b[0m \u001b[0;34m=\u001b[0m \u001b[0mimputer\u001b[0m\u001b[0;34m.\u001b[0m\u001b[0mtransform\u001b[0m\u001b[0;34m(\u001b[0m\u001b[0mX_test\u001b[0m\u001b[0;34m)\u001b[0m\u001b[0;34m\u001b[0m\u001b[0;34m\u001b[0m\u001b[0m\n\u001b[1;32m      7\u001b[0m \u001b[0;34m\u001b[0m\u001b[0m\n",
            "\u001b[0;31mNameError\u001b[0m: name 'X_train' is not defined"
          ]
        }
      ]
    },
    {
      "cell_type": "code",
      "source": [
        "# Find the maximum severity value and its index\n",
        "max_severity_index = df['SEVERITY_CODE'].idxmax()\n",
        "max_severity = df.loc[max_severity_index, 'SEVERITY_CODE']\n",
        "\n",
        "# Get the latitude and longitude corresponding to the maximum severity\n",
        "worst_lat = df.loc[max_severity_index, 'LAT']\n",
        "worst_lon = df.loc[max_severity_index, 'LON']\n",
        "\n",
        "print(\"Latitude of the worst severity:\", worst_lat)\n",
        "print(\"Longitude of the worst severity:\", worst_lon)\n",
        "print(\"Maximum severity:\", max_severity)\n"
      ],
      "metadata": {
        "colab": {
          "base_uri": "https://localhost:8080/"
        },
        "id": "_a9WkAsbR6Y8",
        "outputId": "e10fa9c0-2ab9-436d-a1a5-e77242be76d0"
      },
      "execution_count": null,
      "outputs": [
        {
          "output_type": "stream",
          "name": "stdout",
          "text": [
            "Latitude of the worst severity: 16.0\n",
            "Longitude of the worst severity: -95.0\n",
            "Maximum severity: 3\n"
          ]
        }
      ]
    },
    {
      "cell_type": "code",
      "source": [
        "# Find records with the highest severity\n",
        "worst_records = df[df['SEVERITY_CODE'] == df['SEVERITY_CODE'].max()]\n",
        "\n",
        "# Extract latitude and longitude values for the worst records\n",
        "worst_latitudes = worst_records['LAT'].values\n",
        "worst_longitudes = worst_records['LON'].values\n",
        "\n",
        "# Print the worst severity and corresponding coordinates\n",
        "print(\"Worst Severity:\", worst_records['SEVERITY_CODE'].values[0])\n",
        "print(\"Latitude:\", worst_latitudes)\n",
        "print(\"Longitude:\", worst_longitudes)\n"
      ],
      "metadata": {
        "colab": {
          "base_uri": "https://localhost:8080/"
        },
        "id": "_HMzDLwkSgKQ",
        "outputId": "8a3c57bf-2224-4e79-dce8-a3d6f3b0855e"
      },
      "execution_count": null,
      "outputs": [
        {
          "output_type": "stream",
          "name": "stdout",
          "text": [
            "Worst Severity: 3\n",
            "Latitude: [16.   -5.25 -6.1  ... 21.35 27.83  6.4 ]\n",
            "Longitude: [ -95.           72.47         71.73333333 ... -157.93333333 -175.83\n",
            " -162.4       ]\n"
          ]
        }
      ]
    },
    {
      "cell_type": "code",
      "source": [
        "import folium\n",
        "\n",
        "# Create a folium map centered at the worst severity location\n",
        "map_center = [worst_lat, worst_lon]\n",
        "mymap = folium.Map(location=map_center, zoom_start=10)\n",
        "\n",
        "# Add a marker at the worst severity location\n",
        "folium.Marker(location=[worst_lat, worst_lon], popup='Worst Severity Location').add_to(mymap)\n",
        "\n",
        "# Display the map\n",
        "mymap.save('worst_severity_map.html')\n"
      ],
      "metadata": {
        "id": "yJv_7_MFSw2K"
      },
      "execution_count": null,
      "outputs": []
    },
    {
      "cell_type": "code",
      "source": [
        "# Filter the dataset to include only rows with the highest severity level\n",
        "highest_severity_df = df[df['SEVERITY_CODE'] == max_severity].copy()\n",
        "\n",
        "# Convert water temperature to numerical values\n",
        "highest_severity_df['WATER_TEMP_MIN'] = highest_severity_df['WATER_TEMPERATURE'].str.extract(r'(\\d+.\\d+)')\n",
        "highest_severity_df['WATER_TEMP_MAX'] = highest_severity_df['WATER_TEMPERATURE'].str.extract(r'(\\d+.\\d+)', expand=False)\n",
        "\n",
        "# Convert extracted values to numeric\n",
        "highest_severity_df['WATER_TEMP_MIN'] = pd.to_numeric(highest_severity_df['WATER_TEMP_MIN'], errors='coerce')\n",
        "highest_severity_df['WATER_TEMP_MAX'] = pd.to_numeric(highest_severity_df['WATER_TEMP_MAX'], errors='coerce')\n",
        "\n",
        "# Calculate average temperature\n",
        "highest_severity_df['WATER_TEMP_AVG'] = (highest_severity_df['WATER_TEMP_MIN'] + highest_severity_df['WATER_TEMP_MAX']) / 2\n",
        "\n",
        "# Calculate the average temperature for locations with the highest severity level\n",
        "average_temp_highest_severity = highest_severity_df['WATER_TEMP_AVG'].mean()\n",
        "\n",
        "print(\"Average water temperature for locations with the highest severity level:\", average_temp_highest_severity)\n"
      ],
      "metadata": {
        "colab": {
          "base_uri": "https://localhost:8080/"
        },
        "id": "cw4tb7AnUReG",
        "outputId": "3d099bc4-085b-4db2-8cc2-60b37eeb410c"
      },
      "execution_count": null,
      "outputs": [
        {
          "output_type": "stream",
          "name": "stdout",
          "text": [
            "Average water temperature for locations with the highest severity level: 33.04447368421053\n"
          ]
        }
      ]
    },
    {
      "cell_type": "code",
      "source": [
        "# Convert water temperature to numerical values\n",
        "df['WATER_TEMP_MIN'] = df['WATER_TEMPERATURE'].str.extract(r'(\\d+.\\d+)')\n",
        "df['WATER_TEMP_MAX'] = df['WATER_TEMPERATURE'].str.extract(r'(\\d+.\\d+)', expand=False)\n",
        "\n",
        "# Convert extracted values to numeric\n",
        "df['WATER_TEMP_MIN'] = pd.to_numeric(df['WATER_TEMP_MIN'], errors='coerce')\n",
        "df['WATER_TEMP_MAX'] = pd.to_numeric(df['WATER_TEMP_MAX'], errors='coerce')\n",
        "\n",
        "# Calculate average temperature\n",
        "df['WATER_TEMP_AVG'] = (df['WATER_TEMP_MIN'] + df['WATER_TEMP_MAX']) / 2\n",
        "\n",
        "# Group by severity level and calculate average temperature for each group\n",
        "average_temp_by_severity = df.groupby('SEVERITY_CODE')['WATER_TEMP_AVG'].mean()\n",
        "\n",
        "print(\"Average water temperature for each severity level:\")\n",
        "print(average_temp_by_severity)\n"
      ],
      "metadata": {
        "colab": {
          "base_uri": "https://localhost:8080/"
        },
        "id": "n3til2cWU3BA",
        "outputId": "1691a275-dcd5-4723-a13b-6996dd93bb8d"
      },
      "execution_count": null,
      "outputs": [
        {
          "output_type": "stream",
          "name": "stdout",
          "text": [
            "Average water temperature for each severity level:\n",
            "SEVERITY_CODE\n",
            "-1     27.512195\n",
            " 0     65.059091\n",
            " 1    460.737073\n",
            " 2    386.300000\n",
            " 3     33.044474\n",
            "Name: WATER_TEMP_AVG, dtype: float64\n"
          ]
        }
      ]
    },
    {
      "cell_type": "code",
      "source": [
        "# Define the severity levels\n",
        "severity_levels = sorted(df['SEVERITY_CODE'].unique())\n",
        "\n",
        "# Create an empty dictionary to store average temperatures for each severity level\n",
        "average_temperatures = {}\n",
        "\n",
        "# Iterate over each severity level\n",
        "for severity_level in severity_levels:\n",
        "    # Filter the dataset to include only rows with the current severity level\n",
        "    filtered_df = df[df['SEVERITY_CODE'] == severity_level].copy()\n",
        "\n",
        "    # Convert water temperature to numerical values\n",
        "    filtered_df['WATER_TEMP_MIN'] = filtered_df['WATER_TEMPERATURE'].str.extract(r'(\\d+.\\d+)')\n",
        "    filtered_df['WATER_TEMP_MAX'] = filtered_df['WATER_TEMPERATURE'].str.extract(r'(\\d+.\\d+)', expand=False)\n",
        "    filtered_df['WATER_TEMP_MIN'] = pd.to_numeric(filtered_df['WATER_TEMP_MIN'], errors='coerce')\n",
        "    filtered_df['WATER_TEMP_MAX'] = pd.to_numeric(filtered_df['WATER_TEMP_MAX'], errors='coerce')\n",
        "\n",
        "    # Calculate average temperature\n",
        "    filtered_df['WATER_TEMP_AVG'] = (filtered_df['WATER_TEMP_MIN'] + filtered_df['WATER_TEMP_MAX']) / 2\n",
        "\n",
        "    # Calculate the average temperature for the current severity level\n",
        "    average_temperature = filtered_df['WATER_TEMP_AVG'].mean()\n",
        "\n",
        "    # Store the average temperature in the dictionary\n",
        "    average_temperatures[severity_level] = average_temperature\n",
        "\n",
        "# Print average temperatures for each severity level\n",
        "for severity_level, average_temp in average_temperatures.items():\n",
        "    print(f\"Average water temperature for severity level {severity_level}: {average_temp}\")\n"
      ],
      "metadata": {
        "colab": {
          "base_uri": "https://localhost:8080/"
        },
        "id": "x73KLK95VCHM",
        "outputId": "b151f2fe-26fa-4c5d-d10d-fc118e64f520"
      },
      "execution_count": null,
      "outputs": [
        {
          "output_type": "stream",
          "name": "stdout",
          "text": [
            "Average water temperature for severity level -1: 27.51219512195122\n",
            "Average water temperature for severity level 0: 65.05909090909091\n",
            "Average water temperature for severity level 1: 460.7370731707317\n",
            "Average water temperature for severity level 2: 386.3\n",
            "Average water temperature for severity level 3: 33.04447368421053\n"
          ]
        }
      ]
    },
    {
      "cell_type": "code",
      "source": [
        "# Iterate over each severity level\n",
        "for severity_level in severity_levels:\n",
        "    # Filter the dataset to include only rows with the current severity level\n",
        "    filtered_df = df[df['SEVERITY_CODE'] == severity_level].copy()\n",
        "\n",
        "    # Display the data for the current severity level\n",
        "    print(f\"Data for severity level {severity_level}:\")\n",
        "    print(filtered_df[['WATER_TEMPERATURE', 'WATER_TEMP_MIN', 'WATER_TEMP_MAX', 'WATER_TEMP_AVG']].head())\n"
      ],
      "metadata": {
        "colab": {
          "base_uri": "https://localhost:8080/"
        },
        "id": "2aH411VSVTVv",
        "outputId": "13fb0740-3109-4208-c283-e0546dfc9c08"
      },
      "execution_count": null,
      "outputs": [
        {
          "output_type": "stream",
          "name": "stdout",
          "text": [
            "Data for severity level -1:\n",
            "   WATER_TEMPERATURE  WATER_TEMP_MIN  WATER_TEMP_MAX  WATER_TEMP_AVG\n",
            "3         22-23.9 °C             NaN             NaN             NaN\n",
            "5                NaN             NaN             NaN             NaN\n",
            "27               NaN             NaN             NaN             NaN\n",
            "28               NaN             NaN             NaN             NaN\n",
            "47               NaN             NaN             NaN             NaN\n",
            "Data for severity level 0:\n",
            "                                    WATER_TEMPERATURE  WATER_TEMP_MIN  \\\n",
            "0                                                 NaN             NaN   \n",
            "1                                                 NaN             NaN   \n",
            "2                                                 NaN             NaN   \n",
            "4              Air temp 28 Deg C, Water temp 29 Deg C             NaN   \n",
            "11  Air temperature 30 deg C, water temperature 28...             NaN   \n",
            "\n",
            "    WATER_TEMP_MAX  WATER_TEMP_AVG  \n",
            "0              NaN             NaN  \n",
            "1              NaN             NaN  \n",
            "2              NaN             NaN  \n",
            "4              NaN             NaN  \n",
            "11             NaN             NaN  \n",
            "Data for severity level 1:\n",
            "   WATER_TEMPERATURE  WATER_TEMP_MIN  WATER_TEMP_MAX  WATER_TEMP_AVG\n",
            "9                NaN             NaN             NaN             NaN\n",
            "10               NaN             NaN             NaN             NaN\n",
            "23               NaN             NaN             NaN             NaN\n",
            "24               NaN             NaN             NaN             NaN\n",
            "25               NaN             NaN             NaN             NaN\n",
            "Data for severity level 2:\n",
            "   WATER_TEMPERATURE  WATER_TEMP_MIN  WATER_TEMP_MAX  WATER_TEMP_AVG\n",
            "7     unusually warm             NaN             NaN             NaN\n",
            "8                NaN             NaN             NaN             NaN\n",
            "12               NaN             NaN             NaN             NaN\n",
            "13               NaN             NaN             NaN             NaN\n",
            "14               NaN             NaN             NaN             NaN\n",
            "Data for severity level 3:\n",
            "   WATER_TEMPERATURE  WATER_TEMP_MIN  WATER_TEMP_MAX  WATER_TEMP_AVG\n",
            "6                NaN             NaN             NaN             NaN\n",
            "16               NaN             NaN             NaN             NaN\n",
            "17               NaN             NaN             NaN             NaN\n",
            "18               NaN             NaN             NaN             NaN\n",
            "19               NaN             NaN             NaN             NaN\n"
          ]
        }
      ]
    },
    {
      "cell_type": "code",
      "source": [
        "# Define grid or binning strategy\n",
        "lat_bins = np.linspace(df['LAT'].min(), df['LAT'].max(), num=10)\n",
        "lon_bins = np.linspace(df['LON'].min(), df['LON'].max(), num=10)\n",
        "\n",
        "# Bin latitude and longitude coordinates\n",
        "df['LAT_BIN'] = pd.cut(df['LAT'], bins=lat_bins)\n",
        "df['LON_BIN'] = pd.cut(df['LON'], bins=lon_bins)\n",
        "\n",
        "# Group by latitude and longitude bins and calculate average severity level\n",
        "avg_severity_by_region = df.groupby(['LAT_BIN', 'LON_BIN'])['SEVERITY_CODE'].mean()\n",
        "\n",
        "print(\"Average severity level for each region:\")\n",
        "print(avg_severity_by_region)\n"
      ],
      "metadata": {
        "colab": {
          "base_uri": "https://localhost:8080/",
          "height": 207
        },
        "id": "j8F4-LpNvAl1",
        "outputId": "f3ff7c6b-24d0-430a-a55d-1e082d68db2b"
      },
      "execution_count": null,
      "outputs": [
        {
          "output_type": "error",
          "ename": "NameError",
          "evalue": "name 'np' is not defined",
          "traceback": [
            "\u001b[0;31m---------------------------------------------------------------------------\u001b[0m",
            "\u001b[0;31mNameError\u001b[0m                                 Traceback (most recent call last)",
            "\u001b[0;32m<ipython-input-18-45ce37d378bd>\u001b[0m in \u001b[0;36m<cell line: 2>\u001b[0;34m()\u001b[0m\n\u001b[1;32m      1\u001b[0m \u001b[0;31m# Define grid or binning strategy\u001b[0m\u001b[0;34m\u001b[0m\u001b[0;34m\u001b[0m\u001b[0m\n\u001b[0;32m----> 2\u001b[0;31m \u001b[0mlat_bins\u001b[0m \u001b[0;34m=\u001b[0m \u001b[0mnp\u001b[0m\u001b[0;34m.\u001b[0m\u001b[0mlinspace\u001b[0m\u001b[0;34m(\u001b[0m\u001b[0mdf\u001b[0m\u001b[0;34m[\u001b[0m\u001b[0;34m'LAT'\u001b[0m\u001b[0;34m]\u001b[0m\u001b[0;34m.\u001b[0m\u001b[0mmin\u001b[0m\u001b[0;34m(\u001b[0m\u001b[0;34m)\u001b[0m\u001b[0;34m,\u001b[0m \u001b[0mdf\u001b[0m\u001b[0;34m[\u001b[0m\u001b[0;34m'LAT'\u001b[0m\u001b[0;34m]\u001b[0m\u001b[0;34m.\u001b[0m\u001b[0mmax\u001b[0m\u001b[0;34m(\u001b[0m\u001b[0;34m)\u001b[0m\u001b[0;34m,\u001b[0m \u001b[0mnum\u001b[0m\u001b[0;34m=\u001b[0m\u001b[0;36m10\u001b[0m\u001b[0;34m)\u001b[0m\u001b[0;34m\u001b[0m\u001b[0;34m\u001b[0m\u001b[0m\n\u001b[0m\u001b[1;32m      3\u001b[0m \u001b[0mlon_bins\u001b[0m \u001b[0;34m=\u001b[0m \u001b[0mnp\u001b[0m\u001b[0;34m.\u001b[0m\u001b[0mlinspace\u001b[0m\u001b[0;34m(\u001b[0m\u001b[0mdf\u001b[0m\u001b[0;34m[\u001b[0m\u001b[0;34m'LON'\u001b[0m\u001b[0;34m]\u001b[0m\u001b[0;34m.\u001b[0m\u001b[0mmin\u001b[0m\u001b[0;34m(\u001b[0m\u001b[0;34m)\u001b[0m\u001b[0;34m,\u001b[0m \u001b[0mdf\u001b[0m\u001b[0;34m[\u001b[0m\u001b[0;34m'LON'\u001b[0m\u001b[0;34m]\u001b[0m\u001b[0;34m.\u001b[0m\u001b[0mmax\u001b[0m\u001b[0;34m(\u001b[0m\u001b[0;34m)\u001b[0m\u001b[0;34m,\u001b[0m \u001b[0mnum\u001b[0m\u001b[0;34m=\u001b[0m\u001b[0;36m10\u001b[0m\u001b[0;34m)\u001b[0m\u001b[0;34m\u001b[0m\u001b[0;34m\u001b[0m\u001b[0m\n\u001b[1;32m      4\u001b[0m \u001b[0;34m\u001b[0m\u001b[0m\n\u001b[1;32m      5\u001b[0m \u001b[0;31m# Bin latitude and longitude coordinates\u001b[0m\u001b[0;34m\u001b[0m\u001b[0;34m\u001b[0m\u001b[0m\n",
            "\u001b[0;31mNameError\u001b[0m: name 'np' is not defined"
          ]
        }
      ]
    },
    {
      "cell_type": "code",
      "source": [
        "import numpy as np  # Import NumPy library\n",
        "\n",
        "# Define grid or binning strategy\n",
        "lat_bins = np.linspace(df['LAT'].min(), df['LAT'].max(), num=10)\n",
        "lon_bins = np.linspace(df['LON'].min(), df['LON'].max(), num=10)\n",
        "\n",
        "# Bin latitude and longitude coordinates\n",
        "df['LAT_BIN'] = pd.cut(df['LAT'], bins=lat_bins)\n",
        "df['LON_BIN'] = pd.cut(df['LON'], bins=lon_bins)\n",
        "\n",
        "# Group by latitude and longitude bins and calculate average severity level\n",
        "avg_severity_by_region = df.groupby(['LAT_BIN', 'LON_BIN'])['SEVERITY_CODE'].mean()\n",
        "\n",
        "print(\"Average severity level for each region:\")\n",
        "print(avg_severity_by_region)\n"
      ],
      "metadata": {
        "id": "L1ymZqS_vM6E",
        "outputId": "47037494-45bf-4646-9a8c-4c594a0a6082",
        "colab": {
          "base_uri": "https://localhost:8080/"
        }
      },
      "execution_count": null,
      "outputs": [
        {
          "output_type": "stream",
          "name": "stdout",
          "text": [
            "Average severity level for each region:\n",
            "LAT_BIN                LON_BIN            \n",
            "(-10269.0, -9122.815]  (-179.967, -139.97]         NaN\n",
            "                       (-139.97, -99.974]          NaN\n",
            "                       (-99.974, -59.978]          NaN\n",
            "                       (-59.978, -19.982]          NaN\n",
            "                       (-19.982, 20.015]           NaN\n",
            "                                                ...   \n",
            "(-1099.518, 46.667]    (-19.982, 20.015]     -1.000000\n",
            "                       (20.015, 60.011]       1.466877\n",
            "                       (60.011, 100.007]      1.177340\n",
            "                       (100.007, 140.004]     1.138889\n",
            "                       (140.004, 180.0]       0.683876\n",
            "Name: SEVERITY_CODE, Length: 81, dtype: float64\n"
          ]
        }
      ]
    }
  ]
}